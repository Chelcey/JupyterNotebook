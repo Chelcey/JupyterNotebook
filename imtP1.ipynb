{
 "cells": [
  {
   "cell_type": "code",
   "execution_count": 35,
   "metadata": {},
   "outputs": [],
   "source": [
    "def change_of_base(n, b):\n",
    "    \n",
    "    if n == 0:\n",
    "        return [0]\n",
    "    \n",
    "    digits = []\n",
    "    while n > 0:\n",
    "        rem = n % b\n",
    "        digits.append(rem)\n",
    "        n = n // b\n",
    "    \n",
    "    return digits[::-1]"
   ]
  },
  {
   "cell_type": "code",
   "execution_count": 36,
   "metadata": {},
   "outputs": [
    {
     "data": {
      "text/plain": [
       "[1, 0, 1, 2, 0]"
      ]
     },
     "execution_count": 36,
     "metadata": {},
     "output_type": "execute_result"
    }
   ],
   "source": [
    "change_of_base (1344, 6)"
   ]
  },
  {
   "cell_type": "code",
   "execution_count": 37,
   "metadata": {},
   "outputs": [],
   "source": [
    "def test_f(x):\n",
    "    return x**5 + 13 * x**4 + 99000 * x**2 + 21"
   ]
  },
  {
   "cell_type": "code",
   "execution_count": 38,
   "metadata": {},
   "outputs": [],
   "source": [
    "def format_output(coefs):\n",
    "    out = \" \"\n",
    "\n",
    "    for i in range(len(coefs)):\n",
    "\n",
    "        if coefs[i] == 0:\n",
    "            pass\n",
    "        else:\n",
    "            out += \"{}x^{} + \" .format(coefs[i], len(coefs) - i - 1)\n",
    "\n",
    "    return out[:-3]"
   ]
  },
  {
   "cell_type": "code",
   "execution_count": 39,
   "metadata": {},
   "outputs": [],
   "source": [
    "def guess_f(f):\n",
    "    b = f(1)\n",
    "    c = f(b+1)\n",
    "\n",
    "    coefs = change_of_base(c, b + 1)\n",
    "\n",
    "    return format_output(coefs)"
   ]
  },
  {
   "cell_type": "code",
   "execution_count": 40,
   "metadata": {},
   "outputs": [
    {
     "data": {
      "text/plain": [
       "' 1x^5 + 13x^4 + 99000x^2 + 21x^0'"
      ]
     },
     "execution_count": 40,
     "metadata": {},
     "output_type": "execute_result"
    }
   ],
   "source": [
    "guess_f(test_f)"
   ]
  },
  {
   "cell_type": "code",
   "execution_count": 41,
   "metadata": {},
   "outputs": [],
   "source": [
    "def guess_from_points(b, c):\n",
    "\n",
    "    coefs = change_of_base(c, b+1)\n",
    "    \n",
    "    return format_output(coefs)"
   ]
  },
  {
   "cell_type": "code",
   "execution_count": 42,
   "metadata": {},
   "outputs": [
    {
     "data": {
      "text/plain": [
       "' 7x^5 + 3x^1'"
      ]
     },
     "execution_count": 42,
     "metadata": {},
     "output_type": "execute_result"
    }
   ],
   "source": [
    "guess_from_points(10, 1127390)"
   ]
  },
  {
   "cell_type": "code",
   "execution_count": 43,
   "metadata": {},
   "outputs": [
    {
     "data": {
      "text/plain": [
       "' 1x^10000 + 10000x^99 + 23x^0'"
      ]
     },
     "execution_count": 43,
     "metadata": {},
     "output_type": "execute_result"
    }
   ],
   "source": [
    "guess_f(lambda x: x**10000 + 10000 * x**99 + 23)"
   ]
  }
 ],
 "metadata": {
  "kernelspec": {
   "display_name": "Python 3.10.4 64-bit ('3.10.4')",
   "language": "python",
   "name": "python3"
  },
  "language_info": {
   "codemirror_mode": {
    "name": "ipython",
    "version": 3
   },
   "file_extension": ".py",
   "mimetype": "text/x-python",
   "name": "python",
   "nbconvert_exporter": "python",
   "pygments_lexer": "ipython3",
   "version": "3.10.4"
  },
  "orig_nbformat": 4,
  "vscode": {
   "interpreter": {
    "hash": "77e33d92fde9ab2e7ed61524c5b339aa2f3ee71bff2a9d2993c0c75c44a01273"
   }
  }
 },
 "nbformat": 4,
 "nbformat_minor": 2
}
